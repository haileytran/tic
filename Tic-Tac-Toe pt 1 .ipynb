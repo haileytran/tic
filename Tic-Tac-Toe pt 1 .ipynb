{
 "cells": [
  {
   "cell_type": "markdown",
   "metadata": {},
   "source": [
    "# <font size=\"15\"> Python Project: Tic-Tac-Toe </font>"
   ]
  },
  {
   "cell_type": "code",
   "execution_count": null,
   "metadata": {},
   "outputs": [],
   "source": [
    "# We will make the board using dictionary \n",
    "#    in which keys will be the location(i.e : top-left,mid-right,etc.)\n",
    "#    and initialliy it's values will be empty space and then after every move \n",
    "#    we will change the value according to player's choice of move. \n",
    "\n",
    "theboard = \n",
    "\n",
    "# Think about how we would use the board_keys variable in the future and how do we \n",
    "#    add all the keys of the board to this list \n",
    "board_keys = []\n",
    "\n",
    "# We will have to print the updated board after every move in the game and \n",
    "#    thus we will make a function in which we'll define the printBoard function\n",
    "#    so that we can easily print the board everytime by calling this function.\n",
    "\n",
    "def printBoard(board):\n",
    "    \n",
    "\n",
    ".   \n",
    ".    \n",
    ".    \n",
    "    \n",
    "    \n",
    "# Now we will ask if player wants to restart the game or not.\n",
    "..."
   ]
  }
 ],
 "metadata": {
  "kernelspec": {
   "display_name": "Python 3",
   "language": "python",
   "name": "python3"
  },
  "language_info": {
   "codemirror_mode": {
    "name": "ipython",
    "version": 3
   },
   "file_extension": ".py",
   "mimetype": "text/x-python",
   "name": "python",
   "nbconvert_exporter": "python",
   "pygments_lexer": "ipython3",
   "version": "3.8.6"
  }
 },
 "nbformat": 4,
 "nbformat_minor": 4
}
